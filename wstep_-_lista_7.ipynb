{
 "cells": [
  {
   "cell_type": "markdown",
   "id": "e07e2196",
   "metadata": {},
   "source": [
    "# Wstęp do programowania\n",
    "\n",
    "## Lista 7\n",
    "\n",
    "Uzupełnij swoje dane poniżej, następnie przeczytaj treść zadań i umieść rozwiązania w odpowidenich komórkach pozostawionych w tym celu pod treścią. Pamiętaj dbać o specyfikację, czyli nazwy zmiennych oraz odpowiednie rozmieszczenie komórek. Jeśli uruchomisz wszystkie komórki, dokument powinien działać bez błędów.<br>\n",
    "Możesz (ale nie musisz) korzystać ze wszystkiego, co wiesz, czyli możesz definiować funkcje, używać instrukcji warunkowych itd. itp. "
   ]
  },
  {
   "cell_type": "markdown",
   "id": "9016b94c",
   "metadata": {},
   "source": [
    "  * **Imię:** Tomasz\n",
    "  * **Nazwisko:** Warzecha\n",
    "  * **Numer indeksu:** 282261"
   ]
  },
  {
   "cell_type": "markdown",
   "id": "888e6a52",
   "metadata": {},
   "source": [
    "Napisz program, który znajduje wszystkie rzeczywiste rozwiązania równania:\n",
    "$$ax^2+bx+c=0$$\n",
    "zadanego przez zmienne `a`, `b` i `c`. Możesz utworzyć dowolnie wiele zmiennych pomocniczych (pod warunkiem, że będzie ich skończenie wiele)."
   ]
  },
  {
   "cell_type": "code",
   "execution_count": 1,
   "id": "c1c80520",
   "metadata": {},
   "outputs": [],
   "source": [
    "a=0\n",
    "b=5\n",
    "c=110"
   ]
  },
  {
   "cell_type": "markdown",
   "id": "6bf3d76e",
   "metadata": {},
   "source": [
    "Rozwiązanie:"
   ]
  },
  {
   "cell_type": "code",
   "execution_count": 2,
   "id": "2b88b548",
   "metadata": {},
   "outputs": [
    {
     "name": "stdout",
     "output_type": "stream",
     "text": [
      "[-22.0]\n"
     ]
    }
   ],
   "source": [
    "x = []\n",
    "if a != 0:\n",
    "    delta = b**2 - 4*a*c\n",
    "    if delta < 0:\n",
    "        print('Brak rozwiązań w rzeczywistych')\n",
    "    else:\n",
    "        delta_sqrt = delta**0.5\n",
    "        if delta_sqrt == 0:\n",
    "            x.append(-b/2*a)\n",
    "        else:\n",
    "            x1 = (-b - delta_sqrt)/2*a\n",
    "            x2 = (-b + delta_sqrt)/2*a\n",
    "            x.append((x1,x2))\n",
    "else:\n",
    "    x.append(-c/b)\n",
    "    \n",
    "print(x)"
   ]
  },
  {
   "cell_type": "markdown",
   "id": "7c612850",
   "metadata": {},
   "source": [
    "### Zadanie 2\n",
    "\n",
    "Oblicz pole czworokąta o zadanych wierzchołkach, zapisanych w zmiennych `A`, `B`, `C` oraz `D`."
   ]
  },
  {
   "cell_type": "code",
   "execution_count": 3,
   "id": "2cb9159f",
   "metadata": {},
   "outputs": [],
   "source": [
    "A = (0,0)\n",
    "B = (0,3)\n",
    "C = (1,1)\n",
    "D = (4,0)"
   ]
  },
  {
   "cell_type": "markdown",
   "id": "c59d0015",
   "metadata": {},
   "source": [
    "_Rozwiązanie umieść poniżej, po wywołaniu komórki odpowiedź powinna być zapisana w zmiennej `pole`. Możesz utworzyć dowolnie wiele zmiennych pomocniczych._"
   ]
  },
  {
   "cell_type": "code",
   "execution_count": 4,
   "id": "e833daf7",
   "metadata": {},
   "outputs": [
    {
     "name": "stdout",
     "output_type": "stream",
     "text": [
      "Pole danego czworokątu: 3.5000\n"
     ]
    }
   ],
   "source": [
    "A = (0,0)\n",
    "B = (0,3)\n",
    "C = (1,1)\n",
    "D = (4,0)\n",
    "\n",
    "def odleglosc(a,b):\n",
    "    xy = ((a[0]-b[0])**2+(a[1]-b[1])**2)**0.5\n",
    "    return xy\n",
    "def pole_trojkata(a,b,c):\n",
    "    p = (a+b+c)/2\n",
    "    pole = (p*(p-a)*(p-b)*(p-c))**0.5\n",
    "    return pole\n",
    "    \n",
    "ab = odleglosc(A,B)\n",
    "bc = odleglosc(B,C)\n",
    "ac = odleglosc(A,C)\n",
    "\n",
    "cd = odleglosc(C,D)\n",
    "ad = odleglosc(A,D)\n",
    "\n",
    "db = odleglosc(D,B)\n",
    "\n",
    "pole_abc = pole_trojkata(ab,bc,ac)\n",
    "pole_cad = pole_trojkata(cd,ad,ac)\n",
    "pole_dba = pole_trojkata(ad,db,ab)\n",
    "pole_dbc = pole_trojkata(db,bc,cd)\n",
    "pole_cab = pole_trojkata(ac,ab,bc)\n",
    "if pole_abc+pole_cad == pole_dba+pole_dbc:\n",
    "    pole = pole_abc+pole_cad\n",
    "else:\n",
    "    if pole_cad + pole_abc > pole_dba+pole_dbc:\n",
    "        pole = pole_dba+pole_dbc\n",
    "    else:\n",
    "        pole = pole_cad + pole_cab\n",
    "print(f'Pole danego czworokątu: {pole:.{4}f}')\n",
    "pole = round(pole,4)"
   ]
  },
  {
   "cell_type": "markdown",
   "id": "e89b31ad",
   "metadata": {},
   "source": [
    "**Odpowiedź:** Pole wynosi"
   ]
  },
  {
   "cell_type": "code",
   "execution_count": 5,
   "id": "b9cc0b8c",
   "metadata": {},
   "outputs": [
    {
     "data": {
      "text/plain": [
       "3.5"
      ]
     },
     "execution_count": 5,
     "metadata": {},
     "output_type": "execute_result"
    }
   ],
   "source": [
    "pole"
   ]
  },
  {
   "cell_type": "markdown",
   "id": "ffa5c607",
   "metadata": {},
   "source": [
    "### Zadanie 3\n",
    "\n",
    "Wielkanoc jest świętem ruchomym. Jest co najmniej kilka algorytmów pozwalających wyznaczyć datę wielkanocy w danym roku kalendarzowym, jednym z nich jest <a href=\"http://www.algorytm.org/przetwarzanie-dat/wyznaczanie-daty-wielkanocy-metoda-meeusa-jonesa-butchera.html\">algorytm Meeusa/Jonesa/Butchera</a>\n",
    "\n",
    "#### Podpunkt a\n",
    "\n",
    "Oblicz datę wielkanocy w przyszłym roku kalendarzowym"
   ]
  },
  {
   "cell_type": "code",
   "execution_count": 6,
   "id": "14df7f9d",
   "metadata": {},
   "outputs": [],
   "source": [
    "R1 = 2024"
   ]
  },
  {
   "cell_type": "markdown",
   "id": "8654e36d",
   "metadata": {},
   "source": [
    "_Rozwiązanie umieść poniżej, po wywołaniu komórki odpowiedź powinna być zapisana w zmiennej `wielkanoc` (samodzielnie zaproponuj \"typ\" tej zmiennej). Możesz utworzyć dowolnie wiele zmiennych pomocniczych._"
   ]
  },
  {
   "cell_type": "code",
   "execution_count": 7,
   "id": "d538ddcd",
   "metadata": {},
   "outputs": [
    {
     "name": "stdout",
     "output_type": "stream",
     "text": [
      "(31, 3)\n"
     ]
    }
   ],
   "source": [
    "def oblicz_wielkanoc(rok):\n",
    " \n",
    "    a = rok%19\n",
    "    b = int(rok/100)\n",
    "    c = rok%100\n",
    "    d = int(b/4)\n",
    "    e = b%4\n",
    "    f = int((b+8)/25)\n",
    "    g = int((b-f+1)/3)\n",
    "    h = (19*a+b-d-g+15)%30\n",
    "    i = int(c/4)\n",
    "    k = c%4\n",
    "    l = (32+2*e+2*i-h-k)%7\n",
    "    m = int((a+11*h+22*l)/451)\n",
    "    p = (h+l-7*m+114)%31\n",
    "    day = p+1\n",
    "    month = int(h+l-7*m+114)//31\n",
    " \n",
    "    return day, month\n",
    "wielkanoc = oblicz_wielkanoc(R1)\n",
    "print(wielkanoc)\n",
    "\n"
   ]
  },
  {
   "cell_type": "markdown",
   "id": "5cc98085",
   "metadata": {},
   "source": [
    "Wpisz kod wypisujący całym zdaniem odpowiedź na pytanie, kiedy będzie wielkanoc w zadanym roku:"
   ]
  },
  {
   "cell_type": "code",
   "execution_count": 8,
   "id": "b60cb20a",
   "metadata": {},
   "outputs": [
    {
     "name": "stdout",
     "output_type": "stream",
     "text": [
      "W roku 2024, wielkanoc będzie 31.3\n"
     ]
    }
   ],
   "source": [
    "print(f'W roku {R1}, wielkanoc będzie {wielkanoc[0]}.{wielkanoc[1]}')"
   ]
  },
  {
   "cell_type": "markdown",
   "id": "9a80d744",
   "metadata": {},
   "source": [
    "#### Podpunkt b\n",
    "\n",
    "Sprawdź, w którym roku w bieżącym wieku wielkanoc przypada najpóźniej (w sensie miesiąca i dnia). Najlepiej, gdyby odpowiedź w całości potrafił znaleźć Twój program."
   ]
  },
  {
   "cell_type": "code",
   "execution_count": 9,
   "id": "4a53daca",
   "metadata": {},
   "outputs": [
    {
     "name": "stdout",
     "output_type": "stream",
     "text": [
      "W obecnym wieku wielkanoc najpóźniej wypadnie 25.4, będzie to w 2038 roku\n"
     ]
    }
   ],
   "source": [
    "najp = (0,0)\n",
    "jaki = []\n",
    "for rok in range(2001,2101):\n",
    "    wielk = oblicz_wielkanoc(rok)\n",
    "    if wielk[1] >= najp[1]:\n",
    "        if wielk[0] >= najp[0]:\n",
    "            najp = wielk\n",
    "for rok in range(2001,2101):\n",
    "    wielk = oblicz_wielkanoc(rok)\n",
    "    if wielk == najp:\n",
    "        jaki.append(rok)\n",
    "print(f'W obecnym wieku wielkanoc najpóźniej wypadnie {najp[0]}.{najp[1]}, będzie to w {jaki[0]} roku')"
   ]
  },
  {
   "cell_type": "markdown",
   "id": "5eafb98d",
   "metadata": {},
   "source": [
    "### Zadanie 4\n",
    "\n",
    "Godziny wschodu i zachodu słońca dla danej długości i szerokości geograficznej można wyliczyć korzystając ze <a href=\"http://cybermoon.pl/wiedza/algorithms/wschody_slonca2.html\">znanych algorytmów</a>. Napisz program, który wylicza godzinę wschodu i zachodu słońca we Wrocławiu (może być dla ustalenia uwagi godzina dla budynku Wydziału Matematyki) w dniu jego (programu) uruchomienia.<BR><BR>\n",
    "<I>Podpowiedź:</I>"
   ]
  },
  {
   "cell_type": "code",
   "execution_count": 10,
   "id": "00ff11c0",
   "metadata": {
    "scrolled": true
   },
   "outputs": [
    {
     "data": {
      "text/plain": [
       "'Dziś jest 11.12.2023'"
      ]
     },
     "execution_count": 10,
     "metadata": {},
     "output_type": "execute_result"
    }
   ],
   "source": [
    "import datetime\n",
    "\n",
    "x = datetime.datetime.now()\n",
    "\"Dziś jest {d}.{m}.{r}\".format(d=x.day,m=x.month,r=x.year)"
   ]
  },
  {
   "cell_type": "markdown",
   "id": "a678e8d6",
   "metadata": {},
   "source": [
    "Rozwiązanie:"
   ]
  },
  {
   "cell_type": "code",
   "execution_count": 11,
   "id": "72bbac0f",
   "metadata": {},
   "outputs": [
    {
     "name": "stdout",
     "output_type": "stream",
     "text": [
      "Dzisiaj mamy 11.12.2023, wschód słońca w C-19 mamy o godzinie 7:45, a zachód o godzinie: 15:45\n"
     ]
    }
   ],
   "source": [
    "import math\n",
    "def czas_s(R, M, D, Lat, Long):\n",
    "    Req = -0.833\n",
    "    J = 367*R - int(7*(R+int((M+9)/12))/4) + int(275*M/9) + D - 730531.5\n",
    "    Cent = J / 36525\n",
    "    L = (4.8949504201433 + 628.331969753199 * Cent) % 6.28318530718\n",
    "    G = (6.2400408 + 628.3019501 * Cent) % 6.28318530718\n",
    "    O = 0.409093 - 0.0002269 * Cent\n",
    "    F = 0.033423 * math.sin(G) + 0.00034907 * math.sin(2*G)\n",
    "    E = 0.0430398 * math.sin(2*(L+F)) - 0.00092502 * math.sin(4*(L+F)) - F\n",
    "    A = math.asin(math.sin(O) * math.sin(L+F))\n",
    "    C = (math.sin(0.017453293 * Req) - math.sin(0.017453293 * Lat) * math.sin(A)) / (math.cos(0.017453293 * Lat) * math.cos(A))\n",
    "    Wsch = (math.pi - (E + 0.017453293 * Long + 1 * math.acos(C))) * 57.29577951 / 15\n",
    "    Zach = (math.pi - (E + 0.017453293 * Long + (-1) * math.acos(C))) * 57.29577951 / 15\n",
    "    \n",
    "    zach_min = Zach-int(Zach)\n",
    "    zach_godz = int(Zach-zach_min) +1\n",
    "    zach_min = round(60*zach_min)\n",
    "    zach = f'{zach_godz}:{zach_min}'\n",
    "    \n",
    "    wsch_min = Wsch-int(Wsch)\n",
    "    wsch_godz = int(Wsch-wsch_min) +1\n",
    "    wsch_min = round(60*wsch_min)\n",
    "    wsch = f'{wsch_godz}:{wsch_min}'\n",
    "\n",
    "\n",
    "    return zach, wsch\n",
    "\n",
    "a = czas_s(x.year,x.month,x.day, 51.1078543065291, 17.057273276057177)\n",
    "print(f'Dzisiaj mamy {x.day}.{x.month}.{x.year}, wschód słońca w C-19 mamy o godzinie {a[1]}, a zachód o godzinie: {a[0]}')\n"
   ]
  },
  {
   "cell_type": "markdown",
   "id": "5ec57cf2",
   "metadata": {},
   "source": [
    "### Zadanie 5\n",
    "\n",
    "Załóżmy, że zakładamy $n$-letnią lokatę na $p$ procent w skali roku z $m$ kapitalizacjami w ciągu roku. Oznacza to, że po dowolnym spośród $n\\cdot m$ okresów kapitalizacji, zarobimy $\\frac{p}{m}$ procent (bank zaokrągli kwotę w dół do pełnych groszy). Następnie, odliczony zostanie podatek od dochodów kapitałowych (19%). Kwota po odliczeniu podatku zostanie ponownie zaokrąglona do pełnych groszy w dół i doliczona do początkowego kapitału, który będzie „pracował” w kolejnym okresie kapitalizacji.\n",
    "\n",
    "##### Podpunkt a\n",
    "\n",
    "Dla uproszczenia pomińmy chwilowo dwa miejsca, w których zaokrąglamy kwoty w dół do pełnych groszy.\n",
    "\n",
    "Ile procent początkowej kwoty zarobi każda z poniższych lokat?\n",
    "\n",
    "  * dwuletnia na 2.3% w skali roku z rocznym okresem kapitalizacji,"
   ]
  },
  {
   "cell_type": "code",
   "execution_count": 21,
   "id": "5565160e",
   "metadata": {},
   "outputs": [
    {
     "name": "stdout",
     "output_type": "stream",
     "text": [
      "0.03760707689999987\n"
     ]
    }
   ],
   "source": [
    "n1 = 2\n",
    "p1 = 0.023\n",
    "m1 = 1\n",
    "\n",
    "p_k = (1+0.81*(p1/m1))**(n1*m1)\n",
    "procent1=p_k-1\n",
    "print(procent1)"
   ]
  },
  {
   "cell_type": "markdown",
   "id": "d0eed40c",
   "metadata": {},
   "source": [
    "   * dwuletnia na 2.25% w skali roku z półrocznym okresem kapitalizacji,\n"
   ]
  },
  {
   "cell_type": "code",
   "execution_count": 22,
   "id": "3048fc54",
   "metadata": {},
   "outputs": [
    {
     "name": "stdout",
     "output_type": "stream",
     "text": [
      "0.03695125955532297\n"
     ]
    }
   ],
   "source": [
    "n2 = 2\n",
    "p2 = 0.0225\n",
    "m2 = 2\n",
    "p_k = (1+0.81*(p2/m2))**(n2*m2)\n",
    "procent2=p_k-1\n",
    "print(procent2)"
   ]
  },
  {
   "cell_type": "markdown",
   "id": "8a54563a",
   "metadata": {},
   "source": [
    "  * dwuletnia na 2.2% w skali roku z kwartalnym okresem kapitalizacji,"
   ]
  },
  {
   "cell_type": "code",
   "execution_count": 23,
   "id": "1073cb34",
   "metadata": {},
   "outputs": [
    {
     "name": "stdout",
     "output_type": "stream",
     "text": [
      "0.03620069580759644\n"
     ]
    }
   ],
   "source": [
    "n3 = 2\n",
    "p3 = 0.022\n",
    "m3 = 4\n",
    "\n",
    "p_k = (1+0.81*(p3/m3))**(n3*m3)\n",
    "procent3=p_k-1\n",
    "print(procent3)"
   ]
  },
  {
   "cell_type": "markdown",
   "id": "2623fe8a",
   "metadata": {},
   "source": [
    "  * dwuletnia na 2.15% w skali roku z dziennym okresem kapitalizacji (zakładamy, że lokata trwa dwa razy po 365 dni)."
   ]
  },
  {
   "cell_type": "code",
   "execution_count": 24,
   "id": "17a27055",
   "metadata": {},
   "outputs": [
    {
     "name": "stdout",
     "output_type": "stream",
     "text": [
      "0.035442808080063726\n"
     ]
    }
   ],
   "source": [
    "n4 = 2\n",
    "p4 = 0.0215\n",
    "m4 = 365\n",
    "\n",
    "p_k = (1+0.81*(p4/m4))**(n4*m4)\n",
    "procent4=p_k-1\n",
    "print(procent4)"
   ]
  },
  {
   "cell_type": "markdown",
   "id": "adcbf4e9",
   "metadata": {},
   "source": [
    "#### Podpunkt b\n",
    "\n",
    "Tym razem nie pomijamy zaokrągleń w dół do pełnych groszy. Na lokatę wpłacamy 1000,00PLN. Ile złotych (i groszy) zarobią następujące lokaty?\n",
    "\n",
    "  * dwuletnia na 2.3% w skali roku z rocznym okresem kapitalizacji,"
   ]
  },
  {
   "cell_type": "code",
   "execution_count": 43,
   "id": "0d39b019",
   "metadata": {},
   "outputs": [
    {
     "name": "stdout",
     "output_type": "stream",
     "text": [
      "37.58\n"
     ]
    }
   ],
   "source": [
    "n5 = 2\n",
    "p5 = 0.023\n",
    "m5 = 1\n",
    "kwota5 = 1000\n",
    "p_k = int(100*kwota5*(1+0.81*p5/m5))/kwota5/100\n",
    "zysk5 = int(100*(kwota5*p_k**(m5*n5) -kwota5))/100 \n",
    "print(zysk5)\n"
   ]
  },
  {
   "cell_type": "markdown",
   "id": "1caf853e",
   "metadata": {},
   "source": [
    "  *  dwuletnia na 2.25% w skali roku z półrocznym okresem kapitalizacji."
   ]
  },
  {
   "cell_type": "code",
   "execution_count": 44,
   "id": "1dd8a817",
   "metadata": {},
   "outputs": [
    {
     "name": "stdout",
     "output_type": "stream",
     "text": [
      "36.94\n"
     ]
    }
   ],
   "source": [
    "n6 = 2\n",
    "p6 = 0.0225\n",
    "m6 = 2\n",
    "kwota6 = 1000\n",
    "\n",
    "p_k = int(100*kwota6*(1+0.81*p6/m6))/kwota6/100\n",
    "zysk6 = int(100*(kwota6*p_k**(m6*n6) -kwota6))/100 \n",
    "print(zysk6)"
   ]
  },
  {
   "cell_type": "markdown",
   "id": "5cb66d01",
   "metadata": {},
   "source": [
    "<div style=\"text-align: right\"> Powodzenia!<br><i>Zespół kursu Wstęp do programowania</i></div>"
   ]
  }
 ],
 "metadata": {
  "kernelspec": {
   "display_name": "Python 3 (ipykernel)",
   "language": "python",
   "name": "python3"
  },
  "language_info": {
   "codemirror_mode": {
    "name": "ipython",
    "version": 3
   },
   "file_extension": ".py",
   "mimetype": "text/x-python",
   "name": "python",
   "nbconvert_exporter": "python",
   "pygments_lexer": "ipython3",
   "version": "3.11.5"
  }
 },
 "nbformat": 4,
 "nbformat_minor": 5
}
